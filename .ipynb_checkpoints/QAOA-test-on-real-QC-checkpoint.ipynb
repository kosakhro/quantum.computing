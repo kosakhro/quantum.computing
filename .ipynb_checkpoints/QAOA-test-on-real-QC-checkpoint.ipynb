{
 "cells": [
  {
   "cell_type": "code",
   "execution_count": 1,
   "metadata": {},
   "outputs": [],
   "source": [
    "from qiskit import *\n",
    "from qiskit.visualization import plot_bloch_multivector\n",
    "from qiskit.visualization import plot_histogram\n",
    "import numpy as np\n",
    "import matplotlib.pyplot as plt\n",
    "import seaborn as sns"
   ]
  },
  {
   "cell_type": "code",
   "execution_count": 2,
   "metadata": {},
   "outputs": [
    {
     "name": "stderr",
     "output_type": "stream",
     "text": [
      "/opt/anaconda3/lib/python3.8/site-packages/qiskit/providers/ibmq/ibmqfactory.py:192: UserWarning: Timestamps in IBMQ backend properties, jobs, and job results are all now in local time instead of UTC.\n",
      "  warnings.warn('Timestamps in IBMQ backend properties, jobs, and job results '\n"
     ]
    },
    {
     "data": {
      "text/plain": [
       "<AccountProvider for IBMQ(hub='ibm-q', group='open', project='main')>"
      ]
     },
     "execution_count": 2,
     "metadata": {},
     "output_type": "execute_result"
    }
   ],
   "source": [
    "IBMQ.load_account()"
   ]
  },
  {
   "cell_type": "code",
   "execution_count": 3,
   "metadata": {},
   "outputs": [],
   "source": [
    "matplotlib inline"
   ]
  },
  {
   "cell_type": "code",
   "execution_count": 4,
   "metadata": {},
   "outputs": [
    {
     "data": {
      "text/plain": [
       "[<IBMQSimulator('ibmq_qasm_simulator') from IBMQ(hub='ibm-q', group='open', project='main')>,\n",
       " <IBMQBackend('ibmqx2') from IBMQ(hub='ibm-q', group='open', project='main')>,\n",
       " <IBMQBackend('ibmq_16_melbourne') from IBMQ(hub='ibm-q', group='open', project='main')>,\n",
       " <IBMQBackend('ibmq_vigo') from IBMQ(hub='ibm-q', group='open', project='main')>,\n",
       " <IBMQBackend('ibmq_ourense') from IBMQ(hub='ibm-q', group='open', project='main')>,\n",
       " <IBMQBackend('ibmq_valencia') from IBMQ(hub='ibm-q', group='open', project='main')>,\n",
       " <IBMQBackend('ibmq_armonk') from IBMQ(hub='ibm-q', group='open', project='main')>,\n",
       " <IBMQBackend('ibmq_athens') from IBMQ(hub='ibm-q', group='open', project='main')>,\n",
       " <IBMQBackend('ibmq_santiago') from IBMQ(hub='ibm-q', group='open', project='main')>]"
      ]
     },
     "execution_count": 4,
     "metadata": {},
     "output_type": "execute_result"
    }
   ],
   "source": [
    "my_provider = IBMQ.get_provider()\n",
    "my_provider.backends()"
   ]
  },
  {
   "cell_type": "code",
   "execution_count": 15,
   "metadata": {},
   "outputs": [],
   "source": [
    "simulator = my_provider.get_backend('ibmq_5_yorktown')"
   ]
  },
  {
   "cell_type": "code",
   "execution_count": 16,
   "metadata": {},
   "outputs": [],
   "source": [
    "# Making the quantum circuit\n",
    "def circuitI(gamma, beta, J, h1, h2):\n",
    "    qc = QuantumCircuit(2, 2)\n",
    "    qc.h([0, 1])\n",
    "    qc.h(1)\n",
    "    qc.cz(0,1)\n",
    "    qc.rx(2*gamma*J, 1)\n",
    "    qc.cz(0,1)\n",
    "    qc.h(1)\n",
    "    qc.i(0)\n",
    "    qc.rz(2*gamma*h1, 0)\n",
    "    qc.rz(2*gamma*h2, 1)\n",
    "    qc.rx(2*beta, 0)\n",
    "    qc.rx(2*beta, 1)\n",
    "    qc.measure([0,1], [0,1])\n",
    "    return qc"
   ]
  },
  {
   "cell_type": "code",
   "execution_count": 17,
   "metadata": {},
   "outputs": [],
   "source": [
    "# Initializing the variables for A.\n",
    "J = 0.5\n",
    "h1 = -0.5\n",
    "h2 = 0\n",
    "\n",
    "#Setting the dimesions of the pasephase. The amount of simulated points = n**2\n",
    "n = 20\n",
    "p = np.pi/(n-1)\n",
    "res = np.zeros([n, n, 4])\n",
    "\n",
    "# Running a simulation for each point\n",
    "for i in range(n):\n",
    "    gamma = i*p\n",
    "    for j in range(n):\n",
    "        beta = j*p\n",
    "        qc = circuitI(gamma, beta, J, h1, h2)\n",
    "        counts = execute(qc, backend = simulator, shots=1000).result().get_counts()\n",
    "        res[i][j][:] = np.array([int(counts.get('00', 0)), int(counts.get('01', 0)), int(counts.get('10', 0)),\n",
    "                                 int(counts.get('11', 0))])"
   ]
  },
  {
   "cell_type": "code",
   "execution_count": 8,
   "metadata": {
    "scrolled": true
   },
   "outputs": [
    {
     "name": "stdout",
     "output_type": "stream",
     "text": [
      "[[[248. 258. 278. 216.]\n",
      "  [260. 257. 229. 254.]\n",
      "  [252. 212. 287. 249.]\n",
      "  [248. 251. 254. 247.]\n",
      "  [259. 242. 237. 262.]]\n",
      "\n",
      " [[245. 263. 239. 253.]\n",
      "  [133. 374. 129. 364.]\n",
      "  [251. 253. 247. 249.]\n",
      "  [376. 122. 381. 121.]\n",
      "  [230. 267. 230. 273.]]\n",
      "\n",
      " [[257. 242. 254. 247.]\n",
      "  [232. 260. 235. 273.]\n",
      "  [231. 271. 250. 248.]\n",
      "  [238. 245. 270. 247.]\n",
      "  [265. 257. 229. 249.]]\n",
      "\n",
      " [[259. 271. 230. 240.]\n",
      "  [366. 123. 383. 128.]\n",
      "  [262. 267. 229. 242.]\n",
      "  [133. 354. 131. 382.]\n",
      "  [277. 241. 226. 256.]]\n",
      "\n",
      " [[230. 255. 247. 268.]\n",
      "  [239. 248. 250. 263.]\n",
      "  [241. 248. 240. 271.]\n",
      "  [251. 262. 234. 253.]\n",
      "  [249. 246. 272. 233.]]]\n"
     ]
    }
   ],
   "source": [
    "print(res)"
   ]
  },
  {
   "cell_type": "code",
   "execution_count": 18,
   "metadata": {
    "scrolled": true
   },
   "outputs": [
    {
     "data": {
      "image/png": "[encoded data removed]",
      "text/plain": [
       "<Figure size 688.452x204.68 with 1 Axes>"
      ]
     },
     "execution_count": 18,
     "metadata": {},
     "output_type": "execute_result"
    }
   ],
   "source": [
    "#Draw the current circuit\n",
    "qc.draw(output='mpl')"
   ]
  },
  {
   "cell_type": "code",
   "execution_count": 19,
   "metadata": {},
   "outputs": [
    {
     "name": "stdout",
     "output_type": "stream",
     "text": [
      "{'00': 279, '01': 239, '10': 281, '11': 201}\n"
     ]
    },
    {
     "data": {
      "image/png": "[encoded data removed]",
      "text/plain": [
       "<Figure size 504x360 with 1 Axes>"
      ]
     },
     "execution_count": 19,
     "metadata": {},
     "output_type": "execute_result"
    }
   ],
   "source": [
    "result = execute(qc, backend = simulator, shots=1000).result()\n",
    "counts = result.get_counts()\n",
    "\n",
    "print(counts)\n",
    "plot_histogram(counts)"
   ]
  },
  {
   "cell_type": "code",
   "execution_count": 20,
   "metadata": {},
   "outputs": [
    {
     "data": {
      "text/plain": [
       "<matplotlib.axes._subplots.AxesSubplot at 0x121205400>"
      ]
     },
     "execution_count": 20,
     "metadata": {},
     "output_type": "execute_result"
    },
    {
     "data": {
      "image/png": "[encoded data removed]",
      "text/plain": [
       "<Figure size 432x288 with 2 Axes>"
      ]
     },
     "metadata": {
      "needs_background": "light"
     },
     "output_type": "display_data"
    }
   ],
   "source": [
    "# Making a heatmap plot\n",
    "sns.heatmap(res[:, :, 2])"
   ]
  },
  {
   "cell_type": "code",
   "execution_count": null,
   "metadata": {},
   "outputs": [],
   "source": []
  }
 ],
 "metadata": {
  "kernelspec": {
   "display_name": "Python 3",
   "language": "python",
   "name": "python3"
  },
  "language_info": {
   "codemirror_mode": {
    "name": "ipython",
    "version": 3
   },
   "file_extension": ".py",
   "mimetype": "text/x-python",
   "name": "python",
   "nbconvert_exporter": "python",
   "pygments_lexer": "ipython3",
   "version": "3.8.3"
  }
 },
 "nbformat": 4,
 "nbformat_minor": 4
}
