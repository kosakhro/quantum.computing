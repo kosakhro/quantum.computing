{
 "cells": [
  {
   "cell_type": "markdown",
   "metadata": {},
   "source": [
    "## Problem 9 [8 points]: Useful identities. Prove that"
   ]
  },
  {
   "cell_type": "markdown",
   "metadata": {},
   "source": [
    "Used for solving: textbooks by Mermin, Kaye"
   ]
  },
  {
   "cell_type": "markdown",
   "metadata": {},
   "source": [
    "Part a."
   ]
  },
  {
   "cell_type": "markdown",
   "metadata": {},
   "source": [
    "The action of Hadamard on the single qubit could be expressed: \n",
    "\n",
    "$H|x\\rangle\n",
    "=\\frac{1}{\\sqrt{2}}(|0\\rangle+(-1)^{x}|1\\rangle)=\\frac{1}{\\sqrt{2}^n}\\displaystyle\\sum_{z=0}^{1} (-1)^{xz}|z\\rangle$"
   ]
  },
  {
   "cell_type": "markdown",
   "metadata": {},
   "source": [
    "So we can rewrite:"
   ]
  },
  {
   "cell_type": "markdown",
   "metadata": {},
   "source": [
    "$H^{\\otimes{n}}|\\mathbf{x}\\rangle\\\\\n",
    "=H^{\\otimes{n}} (|x_{1}\\rangle|x_{2}\\rangle...|x_{n}\\rangle)\\\\\n",
    "=\\frac{1}{\\sqrt{2}}(|0\\rangle+(-1)^{x_1}|1\\rangle)\\frac{1}{\\sqrt{2}}(|0\\rangle+(-1)^{x_2}|1\\rangle)...\\frac{1}{\\sqrt{2}}(|0\\rangle+(-1)^{x_n}|1\\rangle)\\\\\n",
    "=\\frac{1}{\\sqrt{2}^n}\\displaystyle\\sum_{z_{1}z_{2}...z_{n}\\in\\{0,1\\}^n} (-1)^{x_{1}z_{1}+x_{2}z_{2}+...+x_{n}z_{n}}|z_1\\rangle|z_2\\rangle...|z_n\\rangle\\\\\n",
    "=\\frac{1}{\\sqrt{2}^n}\\displaystyle\\sum_{\\mathbf{z}\\in\\{0,1\\}^n} (-1)^{\\mathbf{x}\\cdot\\mathbf{z}}|\\mathbf{z}\\rangle\n",
    "$"
   ]
  },
  {
   "cell_type": "markdown",
   "metadata": {},
   "source": [
    "Part b. (perheps there is a typo in the task: 2 to the power of n-1 instead of n)"
   ]
  },
  {
   "cell_type": "markdown",
   "metadata": {},
   "source": [
    "First using part a.:\n",
    "\n",
    "\n",
    "$H^{\\otimes{n}}(\\frac{1}{\\sqrt{2}}|\\mathbf{x}\\rangle+\\frac{1}{\\sqrt{2}}|\\mathbf{y}\\rangle)=\\frac{1}{\\sqrt{2^{n+1}}}\\displaystyle\\sum_{\\mathbf{z}\\in\\{0,1\\}^n} ((-1)^{\\mathbf{x}\\cdot\\mathbf{z}}+(-1)^{\\mathbf{y}\\cdot\\mathbf{z}})|\\mathbf{z}\\rangle$"
   ]
  },
  {
   "cell_type": "markdown",
   "metadata": {},
   "source": [
    "Since $(-1)^{\\mathbf{y}\\cdot\\mathbf{z}}=(-1)^{\\mathbf{x}\\cdot\\mathbf{z}}(-1)^{\\mathbf{s}\\cdot\\mathbf{z}}$, the coefficient of $|\\mathbf{z}\\rangle$ is $0$ if $\\mathbf{s}\\cdot\\mathbf{z}=1$ and $2(-1)^{\\mathbf{x}\\cdot\\mathbf{z}}$ if\n",
    "$\\mathbf{s}\\cdot\\mathbf{z}=0$"
   ]
  },
  {
   "cell_type": "markdown",
   "metadata": {},
   "source": [
    "$\\frac{1}{\\sqrt{2^{n-1}}}\\displaystyle\\sum_{\\mathbf{z}\\in\\{s\\}^{\\bot}} (-1)^{\\mathbf{x}\\cdot\\mathbf{z}}|\\mathbf{z}\\rangle$"
   ]
  },
  {
   "cell_type": "code",
   "execution_count": null,
   "metadata": {},
   "outputs": [],
   "source": []
  }
 ],
 "metadata": {
  "kernelspec": {
   "display_name": "Python 3",
   "language": "python",
   "name": "python3"
  },
  "language_info": {
   "codemirror_mode": {
    "name": "ipython",
    "version": 3
   },
   "file_extension": ".py",
   "mimetype": "text/x-python",
   "name": "python",
   "nbconvert_exporter": "python",
   "pygments_lexer": "ipython3",
   "version": "3.8.5"
  }
 },
 "nbformat": 4,
 "nbformat_minor": 4
}
