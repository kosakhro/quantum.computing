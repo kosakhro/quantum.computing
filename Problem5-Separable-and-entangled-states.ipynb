{
 "cells": [
  {
   "cell_type": "markdown",
   "metadata": {},
   "source": [
    "## Problem 5 [4 points]: Separable and entangled states"
   ]
  },
  {
   "cell_type": "markdown",
   "metadata": {},
   "source": [
    "Determine which of the following states are entangled. If the state is not entangled, show how to write that as\n",
    "a tensor product; if it is entangled, prove it."
   ]
  },
  {
   "cell_type": "markdown",
   "metadata": {},
   "source": [
    "Lets denote coefficients as $a|00\\rangle+b|01\\rangle+c|10\\rangle+d|11\\rangle$ For state to not be entangled, it must satisfy $ad=bc$"
   ]
  },
  {
   "cell_type": "markdown",
   "metadata": {},
   "source": [
    "a) $\\frac{4}{5}|00\\rangle+\\frac{2}{5}|01\\rangle-\\frac{2}{5}|10\\rangle+\\frac{2\\sqrt{2}}{5}|11\\rangle$\n",
    "\n",
    "in this case \n",
    "$\\frac{4}{5}\\frac{2\\sqrt{2}}{5}\\neq\\frac{2}{5}\\frac{2}{5}$\n",
    "\n",
    "so the state is entangled. \n",
    "\n",
    "NB: the sum of squares is not equal to 1, perheps it's a typo\n",
    "\n",
    "$(\\frac{4}{5})^2+(\\frac{2\\sqrt{2}}{5})^2+(-\\frac{2}{5})^2+(\\frac{2}{5})^2=\\frac{32}{25}$"
   ]
  },
  {
   "cell_type": "markdown",
   "metadata": {},
   "source": [
    "b) $\\frac{1}{2}(|00\\rangle-i|01\\rangle+|10\\rangle+|11\\rangle)$"
   ]
  },
  {
   "cell_type": "markdown",
   "metadata": {},
   "source": [
    "in this case \n",
    "$\\frac{1}{2}\\frac{1}{2}\\neq\\frac{-i}{2}\\frac{1}{2}$\n",
    "\n",
    "the state is entagled"
   ]
  },
  {
   "cell_type": "markdown",
   "metadata": {},
   "source": [
    "c) $\\frac{1}{2}(|00\\rangle+|01\\rangle-|10\\rangle+|11\\rangle)$"
   ]
  },
  {
   "cell_type": "markdown",
   "metadata": {},
   "source": [
    "in this case \n",
    "$\\frac{1}{2}\\frac{1}{2}\\neq-\\frac{1}{2}\\frac{1}{2}$\n",
    "\n",
    "the state is entagled"
   ]
  },
  {
   "cell_type": "code",
   "execution_count": null,
   "metadata": {},
   "outputs": [],
   "source": []
  }
 ],
 "metadata": {
  "kernelspec": {
   "display_name": "Python 3",
   "language": "python",
   "name": "python3"
  },
  "language_info": {
   "codemirror_mode": {
    "name": "ipython",
    "version": 3
   },
   "file_extension": ".py",
   "mimetype": "text/x-python",
   "name": "python",
   "nbconvert_exporter": "python",
   "pygments_lexer": "ipython3",
   "version": "3.8.5"
  }
 },
 "nbformat": 4,
 "nbformat_minor": 4
}
