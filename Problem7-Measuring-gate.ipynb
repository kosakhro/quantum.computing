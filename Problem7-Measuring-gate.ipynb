{
 "cells": [
  {
   "cell_type": "markdown",
   "metadata": {},
   "source": [
    "## Problem 7 [8 points]: Measuring gate"
   ]
  },
  {
   "cell_type": "markdown",
   "metadata": {},
   "source": [
    "Using to solve: Kaye's textbook"
   ]
  },
  {
   "cell_type": "markdown",
   "metadata": {},
   "source": [
    "$\\Phi=\\frac{1}{\\sqrt{12}}(3|00\\rangle+|01\\rangle+|10\\rangle+|11\\rangle)$"
   ]
  },
  {
   "cell_type": "markdown",
   "metadata": {},
   "source": [
    "c). When we measure the two qubits in the computational basis, the probability of getting the result $|00\\rangle$ is $\\frac{9}{12}$, the probability of getting the result $|01\\rangle$ is $\\frac{1}{12}$, the probability of getting the result $|10\\rangle$ is $\\frac{1}{12}$, the probability of getting the result $|11\\rangle$ is $\\frac{1}{12}$\n",
    "\n",
    "a) So the probability of measuring $|0\\rangle$ in the first qubit is $\\frac{10}{12}$ Now we could check what happens if we measure just first qubit, we should rewrite \n",
    "\n",
    "$\\Phi=\\sqrt{\\frac{10}{12}}|0\\rangle(\\sqrt{\\frac{9}{10}}|0\\rangle+\\sqrt{\\frac{1}{10}}|1\\rangle)+\\sqrt{\\frac{2}{12}}|1\\rangle(\\sqrt{\\frac{1}{2}}|0\\rangle+\\sqrt{\\frac{1}{2}}|1\\rangle)$\n"
   ]
  },
  {
   "cell_type": "markdown",
   "metadata": {},
   "source": [
    "The measurement of just the first qubit gives $0$ with probability $\\frac{10}{12}$  and in this case the state of the second qubit is left in the superposition $\\sqrt{\\frac{9}{10}}|0\\rangle+\\sqrt{\\frac{1}{10}}|1\\rangle$"
   ]
  },
  {
   "cell_type": "code",
   "execution_count": null,
   "metadata": {},
   "outputs": [],
   "source": []
  },
  {
   "cell_type": "markdown",
   "metadata": {},
   "source": [
    "b) The probability of measuring $|0\\rangle$ in the second qubit is $\\frac{10}{12}$ Now we could check what happens if we measure just second qubit, we should rewrite \n",
    "\n",
    "$\\Phi=(\\sqrt{\\frac{9}{10}}|0\\rangle+\\sqrt{\\frac{1}{10}}|1\\rangle)\\sqrt{\\frac{10}{12}}|0\\rangle+(\\sqrt{\\frac{1}{2}}|0\\rangle+\\sqrt{\\frac{1}{2}}|1\\rangle)\\sqrt{\\frac{2}{12}}|1\\rangle$\n"
   ]
  },
  {
   "cell_type": "markdown",
   "metadata": {},
   "source": [
    "The measurement of just  second qubit gives $0$ with probability $\\frac{10}{12}$  and in this case the state of the first qubit is left in the superposition $\\sqrt{\\frac{9}{10}}|0\\rangle+\\sqrt{\\frac{1}{10}}|1\\rangle$"
   ]
  },
  {
   "cell_type": "code",
   "execution_count": null,
   "metadata": {},
   "outputs": [],
   "source": []
  }
 ],
 "metadata": {
  "kernelspec": {
   "display_name": "Python 3",
   "language": "python",
   "name": "python3"
  },
  "language_info": {
   "codemirror_mode": {
    "name": "ipython",
    "version": 3
   },
   "file_extension": ".py",
   "mimetype": "text/x-python",
   "name": "python",
   "nbconvert_exporter": "python",
   "pygments_lexer": "ipython3",
   "version": "3.8.5"
  }
 },
 "nbformat": 4,
 "nbformat_minor": 4
}
