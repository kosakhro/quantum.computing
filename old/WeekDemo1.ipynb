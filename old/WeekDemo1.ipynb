{
 "cells": [
  {
   "cell_type": "code",
   "execution_count": 1,
   "metadata": {},
   "outputs": [],
   "source": [
    "# Problem 0: I've installed Quiskit and it was not a problem at all"
   ]
  },
  {
   "cell_type": "code",
   "execution_count": 2,
   "metadata": {},
   "outputs": [],
   "source": [
    "# Problem 1: Extracting Qubit phase. "
   ]
  },
  {
   "cell_type": "code",
   "execution_count": 3,
   "metadata": {},
   "outputs": [],
   "source": [
    "# First idea was to measure the system in the different basis, in this case |+ > and |- >\n",
    "# but we have access only to |0 > and |1 >, so we have to rotate the qbit, measure \n",
    "# in superposition basis, and calculate the angle: \n",
    "# cosine phi = (2 * probability|+> - 1) / sine theta"
   ]
  },
  {
   "cell_type": "code",
   "execution_count": 4,
   "metadata": {},
   "outputs": [],
   "source": [
    "import qiskit \n",
    "from qiskit import IBMQ,Aer\n",
    "from math import pi, acos, sin, cos\n",
    "qiskit.__qiskit_version__\n",
    "from qiskit.visualization import plot_bloch_vector\n",
    "from qiskit.visualization import plot_bloch_multivector\n",
    "from qiskit.tools.visualization import plot_histogram\n"
   ]
  },
  {
   "cell_type": "code",
   "execution_count": 5,
   "metadata": {},
   "outputs": [
    {
     "name": "stderr",
     "output_type": "stream",
     "text": [
      "/opt/anaconda3/lib/python3.8/site-packages/qiskit/providers/ibmq/ibmqfactory.py:192: UserWarning: Timestamps in IBMQ backend properties, jobs, and job results are all now in local time instead of UTC.\n",
      "  warnings.warn('Timestamps in IBMQ backend properties, jobs, and job results '\n"
     ]
    },
    {
     "data": {
      "text/plain": [
       "<AccountProvider for IBMQ(hub='ibm-q', group='open', project='main')>"
      ]
     },
     "execution_count": 5,
     "metadata": {},
     "output_type": "execute_result"
    }
   ],
   "source": [
    "IBMQ.load_account()\n"
   ]
  },
  {
   "cell_type": "code",
   "execution_count": 6,
   "metadata": {},
   "outputs": [
    {
     "data": {
      "text/plain": [
       "[<IBMQSimulator('ibmq_qasm_simulator') from IBMQ(hub='ibm-q', group='open', project='main')>,\n",
       " <IBMQBackend('ibmqx2') from IBMQ(hub='ibm-q', group='open', project='main')>,\n",
       " <IBMQBackend('ibmq_16_melbourne') from IBMQ(hub='ibm-q', group='open', project='main')>,\n",
       " <IBMQBackend('ibmq_vigo') from IBMQ(hub='ibm-q', group='open', project='main')>,\n",
       " <IBMQBackend('ibmq_ourense') from IBMQ(hub='ibm-q', group='open', project='main')>,\n",
       " <IBMQBackend('ibmq_valencia') from IBMQ(hub='ibm-q', group='open', project='main')>,\n",
       " <IBMQBackend('ibmq_armonk') from IBMQ(hub='ibm-q', group='open', project='main')>,\n",
       " <IBMQBackend('ibmq_athens') from IBMQ(hub='ibm-q', group='open', project='main')>,\n",
       " <IBMQBackend('ibmq_santiago') from IBMQ(hub='ibm-q', group='open', project='main')>]"
      ]
     },
     "execution_count": 6,
     "metadata": {},
     "output_type": "execute_result"
    }
   ],
   "source": [
    "my_provider = IBMQ.get_provider()\n",
    "my_provider.backends()"
   ]
  },
  {
   "cell_type": "code",
   "execution_count": 7,
   "metadata": {},
   "outputs": [],
   "source": [
    "q = qiskit.QuantumRegister(1)\n",
    "c = qiskit.ClassicalRegister(1)\n",
    "circuit = qiskit.QuantumCircuit(q, c)\n",
    "thetaAngle = pi/2 #something distinguish from pi*n\n",
    "phiAngle = pi/2\n",
    "circuit.u(thetaAngle, phiAngle, 0, q[0])\n",
    "circuit.h(q[0])\n",
    "measureZ = qiskit.QuantumCircuit(q,c)\n",
    "measureZ.measure(q,c)\n",
    "testZ = circuit + measureZ\n",
    "\n"
   ]
  },
  {
   "cell_type": "code",
   "execution_count": 8,
   "metadata": {},
   "outputs": [
    {
     "data": {
      "image/png": "[encoded data removed]",
      "text/plain": [
       "<Figure size 266.907x144.48 with 1 Axes>"
      ]
     },
     "execution_count": 8,
     "metadata": {},
     "output_type": "execute_result"
    }
   ],
   "source": [
    "testZ.draw('mpl') # visualize the circuit"
   ]
  },
  {
   "cell_type": "code",
   "execution_count": 9,
   "metadata": {},
   "outputs": [
    {
     "data": {
      "image/png": "[encoded data removed]",
      "text/plain": [
       "<Figure size 504x360 with 1 Axes>"
      ]
     },
     "execution_count": 9,
     "metadata": {},
     "output_type": "execute_result"
    }
   ],
   "source": [
    "# run in the cloud\n",
    "\n",
    "shotsN = 1024\n",
    "backend  = my_provider.get_backend('ibmq_5_yorktown')\n",
    "jobIBM = qiskit.execute([testZ],backend = backend, shots = shotsN)\n",
    "result = jobIBM.result()\n",
    "res = result.get_counts(testZ)\n",
    "plot_histogram([res])"
   ]
  },
  {
   "cell_type": "code",
   "execution_count": 10,
   "metadata": {},
   "outputs": [
    {
     "data": {
      "text/plain": [
       "0.5223996465316074"
      ]
     },
     "execution_count": 10,
     "metadata": {},
     "output_type": "execute_result"
    }
   ],
   "source": [
    "acos((2 * res['0'] / shotsN - 1) / sin(thetaAngle)) / pi # phi angle in pi"
   ]
  },
  {
   "cell_type": "code",
   "execution_count": 11,
   "metadata": {},
   "outputs": [],
   "source": [
    "# Problem 2. Single Qubit state preparation"
   ]
  },
  {
   "cell_type": "code",
   "execution_count": 12,
   "metadata": {},
   "outputs": [],
   "source": [
    "# straightforward using U\n",
    "qu = qiskit.QuantumRegister(1)\n",
    "cu = qiskit.ClassicalRegister(1)\n",
    "circuitu = qiskit.QuantumCircuit(qu, cu)\n",
    "circuitu.u(pi/3, pi/3, 0, qu[0])\n",
    "circuitu.h(qu[0])\n",
    "measureU = qiskit.QuantumCircuit(qu,cu)\n",
    "measureU.measure(qu,cu)\n",
    "testU = circuitu + measureU"
   ]
  },
  {
   "cell_type": "code",
   "execution_count": 13,
   "metadata": {},
   "outputs": [],
   "source": [
    "# more sophisticated: a) rotate 90 using H b) rotate phi on pi/3 c) rotate H \n",
    "# d) rotate phi on pi/3 once again e) rotate sqrt(Z) = S\n",
    "# remind rubik's cube rotation"
   ]
  },
  {
   "cell_type": "code",
   "execution_count": 14,
   "metadata": {},
   "outputs": [],
   "source": [
    "qm = qiskit.QuantumRegister(1)\n",
    "cm = qiskit.ClassicalRegister(1)\n",
    "circuitm = qiskit.QuantumCircuit(qm, cm)\n",
    "circuitm.h(qm[0])\n",
    "circuitm.rz(pi/3, qm[0])\n",
    "circuitm.h(qm[0])\n",
    "circuitm.rz(pi/3, qm[0])\n",
    "circuitm.s(qm[0])\n",
    "circuitu.h(qu[0])\n",
    "measureM = qiskit.QuantumCircuit(qm,cm)\n",
    "measureM.measure(qm,cm)\n",
    "testM = circuitm + measureM"
   ]
  },
  {
   "cell_type": "code",
   "execution_count": 16,
   "metadata": {},
   "outputs": [
    {
     "data": {
      "image/png": "[encoded data removed]",
      "text/plain": [
       "<Figure size 504x360 with 1 Axes>"
      ]
     },
     "execution_count": 16,
     "metadata": {},
     "output_type": "execute_result"
    }
   ],
   "source": [
    "shotsN = 1024\n",
    "backend  = my_provider.get_backend('ibmq_ourense')\n",
    "\n",
    "jobIBM = qiskit.execute([testU],backend = backend, shots = shotsN)\n",
    "resultU = jobIBM.result()\n",
    "resU = resultU.get_counts(testU)\n",
    "\n",
    "jobIBM = qiskit.execute([testM],backend = backend, shots = shotsN)\n",
    "resultM = jobIBM.result()\n",
    "resM = resultM.get_counts(testM)\n",
    "\n",
    "plot_histogram([resU, resM])"
   ]
  },
  {
   "cell_type": "code",
   "execution_count": 17,
   "metadata": {},
   "outputs": [
    {
     "data": {
      "text/plain": [
       "-0.08247477378378754"
      ]
     },
     "execution_count": 17,
     "metadata": {},
     "output_type": "execute_result"
    }
   ],
   "source": [
    "# error of straightforward implementation\n",
    "acos((2 * resU['0'] / shotsN - 1) / sin(pi/3)) / (pi / 3) - 1"
   ]
  },
  {
   "cell_type": "code",
   "execution_count": 18,
   "metadata": {},
   "outputs": [
    {
     "data": {
      "text/plain": [
       "-0.07461496486722718"
      ]
     },
     "execution_count": 18,
     "metadata": {},
     "output_type": "execute_result"
    }
   ],
   "source": [
    "# error of \tcompound implementation\n",
    "acos((2 * resM['0'] / shotsN - 1) / sin(pi/3)) / (pi / 3) - 1"
   ]
  },
  {
   "cell_type": "code",
   "execution_count": 20,
   "metadata": {},
   "outputs": [],
   "source": [
    "import numpy as np\n",
    "\n",
    "\n",
    "\n",
    "# Problem 3. Prove following identities\n",
    "\n",
    "# 3.1. HXH = Z\n",
    "\n",
    "H = 1/2**(1/2)*np.array([[1., 1.],\n",
    "                         [1.,-1.]])\n",
    "\n",
    "X = np.array([[0.,1.],\n",
    "              [1.,0.]])\n",
    "\n",
    "Z = np.array([[1., 0.],\n",
    "              [0.,-1.]])\n"
   ]
  },
  {
   "cell_type": "code",
   "execution_count": 21,
   "metadata": {},
   "outputs": [
    {
     "name": "stdout",
     "output_type": "stream",
     "text": [
      "[[ 1.  0.]\n",
      " [ 0. -1.]]\n"
     ]
    }
   ],
   "source": [
    "# Compare HXH \n",
    "\n",
    "print (H.dot(X.dot(H)) )"
   ]
  },
  {
   "cell_type": "code",
   "execution_count": 22,
   "metadata": {},
   "outputs": [
    {
     "name": "stdout",
     "output_type": "stream",
     "text": [
      "[[ 1.  0.]\n",
      " [ 0. -1.]]\n"
     ]
    }
   ],
   "source": [
    "# and Z\n",
    "\n",
    "print (Z)\n"
   ]
  },
  {
   "cell_type": "code",
   "execution_count": 23,
   "metadata": {},
   "outputs": [
    {
     "name": "stdout",
     "output_type": "stream",
     "text": [
      "[[ 1.  0.  0.  0.]\n",
      " [ 0.  1.  0.  0.]\n",
      " [ 0.  0.  1.  0.]\n",
      " [ 0.  0.  0. -1.]]\n"
     ]
    }
   ],
   "source": [
    "# 3.2. 2-qbit controlled Z \n",
    "\n",
    "SWAP = np.array([[1.,0.,0.,0.],\n",
    "                 [0.,0.,1.,0.],\n",
    "                 [0.,1.,0.,0.],\n",
    "                 [0.,0.,0.,1.]])\n",
    "\n",
    "CZ   = np.array([[1.,0.,0., 0.],\n",
    "                 [0.,1.,0., 0.],\n",
    "                 [0.,0.,1., 0.],\n",
    "                 [0.,0.,0.,-1.]])\n",
    "\n",
    "# Compare CZ with swapped CZ\n",
    "\n",
    "print (SWAP.dot(CZ.dot(SWAP)))"
   ]
  },
  {
   "cell_type": "code",
   "execution_count": 24,
   "metadata": {},
   "outputs": [
    {
     "name": "stdout",
     "output_type": "stream",
     "text": [
      "[[1. 0. 0. 0.]\n",
      " [0. 0. 0. 1.]\n",
      " [0. 0. 1. 0.]\n",
      " [0. 1. 0. 0.]]\n"
     ]
    }
   ],
   "source": [
    "# 3.3. (H(x)H)CX(H(x)H) = swapped CX\n",
    "\n",
    "HxH =  np.array([[0.5, 0.5, 0.5, 0.5],\n",
    "                 [0.5,-0.5, 0.5,-0.5],\n",
    "                 [0.5, 0.5,-0.5,-0.5],\n",
    "                 [0.5,-0.5,-0.5, 0.5]])\n",
    "\n",
    "CX   = np.array([[1.,0.,0.,0.],\n",
    "                 [0.,1.,0.,0.],\n",
    "                 [0.,0.,0.,1.],\n",
    "                 [0.,0.,1.,0.]])\n",
    "\n",
    "# Compare (H(x)H)CX(H(x)H) \n",
    "\n",
    "print (HxH.dot(CX.dot(HxH)))"
   ]
  },
  {
   "cell_type": "code",
   "execution_count": 25,
   "metadata": {},
   "outputs": [
    {
     "name": "stdout",
     "output_type": "stream",
     "text": [
      "[[1. 0. 0. 0.]\n",
      " [0. 0. 0. 1.]\n",
      " [0. 0. 1. 0.]\n",
      " [0. 1. 0. 0.]]\n"
     ]
    }
   ],
   "source": [
    "# and swapped CX\n",
    "\n",
    "print (SWAP.dot(CX.dot(SWAP)))\n"
   ]
  },
  {
   "cell_type": "code",
   "execution_count": 26,
   "metadata": {},
   "outputs": [],
   "source": [
    "# 3.4. CR(phi) = U1(phi)(x)I\n",
    "\n",
    "# [1 0     ]     [1 0]     [1 0 0      0     ]\n",
    "# [0 e^iphi] (x) [0 1]  =  [0 1 0      0     ]\n",
    "#                          [0 0 e^iphi 0     ]\n",
    "#                          [0 0 0      e^iphi]\n",
    "   "
   ]
  },
  {
   "cell_type": "code",
   "execution_count": null,
   "metadata": {},
   "outputs": [],
   "source": []
  }
 ],
 "metadata": {
  "kernelspec": {
   "display_name": "Python 3",
   "language": "python",
   "name": "python3"
  },
  "language_info": {
   "codemirror_mode": {
    "name": "ipython",
    "version": 3
   },
   "file_extension": ".py",
   "mimetype": "text/x-python",
   "name": "python",
   "nbconvert_exporter": "python",
   "pygments_lexer": "ipython3",
   "version": "3.8.3"
  }
 },
 "nbformat": 4,
 "nbformat_minor": 4
}
